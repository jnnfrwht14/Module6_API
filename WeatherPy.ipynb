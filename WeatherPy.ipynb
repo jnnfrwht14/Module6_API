{
 "cells": [
  {
   "cell_type": "markdown",
   "metadata": {},
   "source": [
    "# WeatherPy\n",
    "\n",
    "---\n",
    "\n",
    "## Starter Code to Generate Random Geographic Coordinates and a List of Cities"
   ]
  },
  {
   "cell_type": "code",
   "execution_count": 170,
   "metadata": {
    "scrolled": true
   },
   "outputs": [],
   "source": [
    "# Dependencies and Setup\n",
    "import matplotlib.pyplot as plt\n",
    "import pandas as pd\n",
    "import numpy as np\n",
    "import requests\n",
    "import time\n",
    "from scipy.stats import linregress\n",
    "import scipy.stats as st\n",
    "\n",
    "# Impor the OpenWeatherMap API key\n",
    "from api_keys import weather_api_key\n",
    "\n",
    "# Import citipy to determine the cities based on latitude and longitude\n",
    "from citipy import citipy"
   ]
  },
  {
   "cell_type": "markdown",
   "metadata": {},
   "source": [
    "### Generate the Cities List by Using the `citipy` Library"
   ]
  },
  {
   "cell_type": "code",
   "execution_count": 171,
   "metadata": {},
   "outputs": [
    {
     "name": "stdout",
     "output_type": "stream",
     "text": [
      "Number of cities in the list: 261\n"
     ]
    }
   ],
   "source": [
    "# Empty list for holding the latitude and longitude combinations\n",
    "lat_lngs = []\n",
    "\n",
    "# Empty list for holding the cities names\n",
    "cities = []\n",
    "\n",
    "# Range of latitudes and longitudes\n",
    "lat_range = (-90, 90)\n",
    "lng_range = (-180, 180)\n",
    "\n",
    "# Create a set of random lat and lng combinations\n",
    "lats = np.random.uniform(lat_range[0], lat_range[1], size=500)\n",
    "lngs = np.random.uniform(lng_range[0], lng_range[1], size=500)\n",
    "lat_lngs = zip(lats, lngs)\n",
    "\n",
    "# Identify nearest city for each lat, lng combination\n",
    "for lat_lng in lat_lngs:\n",
    "    city = citipy.nearest_city(lat_lng[0], lat_lng[1]).city_name\n",
    "    \n",
    "    # If the city is unique, then add it to a our cities list\n",
    "    if city not in cities:\n",
    "        cities.append(city)\n",
    "\n",
    "# Print the city count to confirm sufficient count\n",
    "print(f\"Number of cities in the list: {len(cities)}\")"
   ]
  },
  {
   "cell_type": "markdown",
   "metadata": {},
   "source": [
    "---"
   ]
  },
  {
   "cell_type": "markdown",
   "metadata": {},
   "source": [
    "## Requirement 1: Create Plots to Showcase the Relationship Between Weather Variables and Latitude\n",
    "\n",
    "### Use the OpenWeatherMap API to retrieve weather data from the cities list generated in the started code"
   ]
  },
  {
   "cell_type": "code",
   "execution_count": 172,
   "metadata": {},
   "outputs": [
    {
     "name": "stdout",
     "output_type": "stream",
     "text": [
      "Beginning Data Retrieval     \n",
      "-----------------------------\n",
      "Processing Record 1 of Set 1 | waitangi\n",
      "Processing Record 2 of Set 1 | ushuaia\n",
      "Processing Record 3 of Set 1 | margaret river\n",
      "Processing Record 4 of Set 1 | porto novo\n",
      "Processing Record 5 of Set 1 | yellowknife\n",
      "Processing Record 6 of Set 1 | edinburgh of the seven seas\n",
      "Processing Record 7 of Set 1 | adamstown\n",
      "Processing Record 8 of Set 1 | hawaiian paradise park\n"
     ]
    },
    {
     "name": "stdout",
     "output_type": "stream",
     "text": [
      "Processing Record 9 of Set 1 | crucecita\n",
      "Processing Record 10 of Set 1 | kapuskasing\n",
      "Processing Record 11 of Set 1 | saipan\n",
      "Processing Record 12 of Set 1 | grytviken\n",
      "Processing Record 13 of Set 1 | iqaluit\n",
      "Processing Record 14 of Set 1 | port-aux-francais\n",
      "Processing Record 15 of Set 1 | blackmans bay\n",
      "Processing Record 16 of Set 1 | la passe\n",
      "Processing Record 17 of Set 1 | bilibino\n",
      "Processing Record 18 of Set 1 | ilulissat\n",
      "Processing Record 19 of Set 1 | al bardiyah\n",
      "Processing Record 20 of Set 1 | stanley\n",
      "Processing Record 21 of Set 1 | cabras\n",
      "Processing Record 22 of Set 1 | kismayo\n",
      "Processing Record 23 of Set 1 | milan\n",
      "Processing Record 24 of Set 1 | oleksandriys'ke\n",
      "Processing Record 25 of Set 1 | levuka\n",
      "Processing Record 26 of Set 1 | lebu\n",
      "Processing Record 27 of Set 1 | bethel\n",
      "Processing Record 28 of Set 1 | kone\n",
      "Processing Record 29 of Set 1 | kununurra\n",
      "Processing Record 30 of Set 1 | pingliang\n",
      "Processing Record 31 of Set 1 | longyearbyen\n",
      "Processing Record 32 of Set 1 | tobelo\n",
      "Processing Record 33 of Set 1 | sitka\n",
      "Processing Record 34 of Set 1 | recani\n",
      "Processing Record 35 of Set 1 | mutoko\n",
      "Processing Record 36 of Set 1 | port alfred\n",
      "Processing Record 37 of Set 1 | susuman\n",
      "Processing Record 38 of Set 1 | keflavik\n",
      "Processing Record 39 of Set 1 | thompson\n",
      "Processing Record 40 of Set 1 | taiohae\n",
      "City not found. Skipping...\n",
      "Processing Record 41 of Set 1 | mount isa\n",
      "Processing Record 42 of Set 1 | coronel dorrego\n",
      "Processing Record 43 of Set 1 | arraial do cabo\n",
      "Processing Record 44 of Set 1 | hermanus\n",
      "Processing Record 45 of Set 1 | sandnessjoen\n",
      "Processing Record 46 of Set 1 | ocean city\n",
      "Processing Record 47 of Set 1 | dalai\n",
      "Processing Record 48 of Set 1 | newman\n",
      "Processing Record 49 of Set 1 | barra de santo antonio\n",
      "Processing Record 50 of Set 1 | colonia\n",
      "Processing Record 0 of Set 2 | nadi\n",
      "Processing Record 1 of Set 2 | hithadhoo\n",
      "Processing Record 2 of Set 2 | albany\n",
      "Processing Record 3 of Set 2 | saynshand\n",
      "Processing Record 4 of Set 2 | puerto ayora\n",
      "Processing Record 5 of Set 2 | talnakh\n",
      "Processing Record 6 of Set 2 | bredasdorp\n",
      "Processing Record 7 of Set 2 | constantia\n",
      "Processing Record 8 of Set 2 | tindouf\n",
      "Processing Record 9 of Set 2 | talakan\n",
      "Processing Record 10 of Set 2 | usinsk\n",
      "Processing Record 11 of Set 2 | puerto san carlos\n",
      "City not found. Skipping...\n",
      "Processing Record 12 of Set 2 | lihue\n",
      "Processing Record 13 of Set 2 | valdivia\n",
      "Processing Record 14 of Set 2 | anadyr\n",
      "Processing Record 15 of Set 2 | port lincoln\n",
      "Processing Record 16 of Set 2 | tazovsky\n",
      "Processing Record 17 of Set 2 | dudinka\n",
      "Processing Record 18 of Set 2 | lata\n",
      "Processing Record 19 of Set 2 | georgetown\n",
      "Processing Record 20 of Set 2 | papatowai\n",
      "Processing Record 21 of Set 2 | menongue\n",
      "Processing Record 22 of Set 2 | labytnangi\n",
      "Processing Record 23 of Set 2 | sao miguel do araguaia\n",
      "Processing Record 24 of Set 2 | petropavlovsk-kamchatsky\n",
      "Processing Record 25 of Set 2 | saudarkrokur\n",
      "Processing Record 26 of Set 2 | port augusta\n",
      "Processing Record 27 of Set 2 | zhangye\n",
      "Processing Record 28 of Set 2 | kralendijk\n",
      "Processing Record 29 of Set 2 | moroto\n",
      "Processing Record 30 of Set 2 | tolanaro\n",
      "Processing Record 31 of Set 2 | ellensburg\n",
      "Processing Record 32 of Set 2 | puerto natales\n",
      "Processing Record 33 of Set 2 | nemuro\n",
      "Processing Record 34 of Set 2 | witbank\n",
      "Processing Record 35 of Set 2 | madang\n",
      "Processing Record 36 of Set 2 | victorica\n",
      "Processing Record 37 of Set 2 | ketchikan\n",
      "Processing Record 38 of Set 2 | ust-nera\n",
      "Processing Record 39 of Set 2 | kapa'a\n",
      "Processing Record 40 of Set 2 | traiskirchen\n",
      "Processing Record 41 of Set 2 | hohhot\n",
      "Processing Record 42 of Set 2 | flying fish cove\n",
      "Processing Record 43 of Set 2 | tommot\n",
      "Processing Record 44 of Set 2 | quellon\n",
      "Processing Record 45 of Set 2 | west island\n",
      "Processing Record 46 of Set 2 | ko pha ngan\n",
      "Processing Record 47 of Set 2 | sao joao da barra\n",
      "Processing Record 48 of Set 2 | ribeira grande\n",
      "Processing Record 49 of Set 2 | san juan de miraflores\n",
      "Processing Record 0 of Set 3 | sirre\n",
      "Processing Record 1 of Set 3 | smithers\n",
      "Processing Record 2 of Set 3 | vorkuta\n",
      "Processing Record 3 of Set 3 | gadzhiyevo\n",
      "Processing Record 4 of Set 3 | udachny\n",
      "Processing Record 5 of Set 3 | fisterra\n",
      "Processing Record 6 of Set 3 | bengkulu\n",
      "Processing Record 7 of Set 3 | port blair\n",
      "Processing Record 8 of Set 3 | shimoda\n",
      "Processing Record 9 of Set 3 | alotau\n",
      "City not found. Skipping...\n",
      "Processing Record 10 of Set 3 | anna regina\n",
      "Processing Record 11 of Set 3 | kristiansund\n",
      "Processing Record 12 of Set 3 | st. john's\n",
      "Processing Record 13 of Set 3 | luwuk\n",
      "Processing Record 14 of Set 3 | severo-yeniseyskiy\n",
      "Processing Record 15 of Set 3 | afaahiti\n",
      "Processing Record 16 of Set 3 | san antonio de pale\n",
      "Processing Record 17 of Set 3 | cill airne\n",
      "Processing Record 18 of Set 3 | badger\n",
      "Processing Record 19 of Set 3 | isafjordur\n",
      "Processing Record 20 of Set 3 | hauterive\n",
      "Processing Record 21 of Set 3 | vilyuchinsk\n",
      "Processing Record 22 of Set 3 | greenland\n",
      "Processing Record 23 of Set 3 | remire-montjoly\n",
      "Processing Record 24 of Set 3 | katsuren-haebaru\n",
      "Processing Record 25 of Set 3 | three points\n",
      "Processing Record 26 of Set 3 | jamestown\n",
      "Processing Record 27 of Set 3 | kenora\n",
      "Processing Record 28 of Set 3 | polyarnyy\n",
      "Processing Record 29 of Set 3 | sheridan\n",
      "Processing Record 30 of Set 3 | al kharijah\n",
      "Processing Record 31 of Set 3 | queenstown\n",
      "Processing Record 32 of Set 3 | olonkinbyen\n",
      "Processing Record 33 of Set 3 | cooper's town\n",
      "Processing Record 34 of Set 3 | morant bay\n",
      "Processing Record 35 of Set 3 | praia da vitoria\n",
      "Processing Record 36 of Set 3 | tiksi\n",
      "Processing Record 37 of Set 3 | tralee\n",
      "Processing Record 38 of Set 3 | nanjing\n",
      "Processing Record 39 of Set 3 | kingston\n",
      "Processing Record 40 of Set 3 | port elizabeth\n",
      "Processing Record 41 of Set 3 | san patricio\n",
      "Processing Record 42 of Set 3 | mitu\n",
      "Processing Record 43 of Set 3 | zapata\n",
      "Processing Record 44 of Set 3 | bodo\n",
      "Processing Record 45 of Set 3 | avarua\n",
      "Processing Record 46 of Set 3 | port douglas\n",
      "Processing Record 47 of Set 3 | pacific grove\n",
      "Processing Record 48 of Set 3 | puerto san jose\n",
      "Processing Record 49 of Set 3 | sohbatpur\n",
      "Processing Record 0 of Set 4 | kodiak\n",
      "Processing Record 1 of Set 4 | lerwick\n",
      "Processing Record 2 of Set 4 | wailua homesteads\n",
      "Processing Record 3 of Set 4 | haiku-pauwela\n",
      "Processing Record 4 of Set 4 | weno\n",
      "Processing Record 5 of Set 4 | invercargill\n",
      "Processing Record 6 of Set 4 | hadibu\n",
      "Processing Record 7 of Set 4 | enewetak\n",
      "Processing Record 8 of Set 4 | tazacorte\n",
      "Processing Record 9 of Set 4 | nova sintra\n",
      "Processing Record 10 of Set 4 | crane\n",
      "Processing Record 11 of Set 4 | cargados carajos\n",
      "City not found. Skipping...\n",
      "Processing Record 12 of Set 4 | fort bragg\n",
      "Processing Record 13 of Set 4 | quelimane\n",
      "Processing Record 14 of Set 4 | alindao\n",
      "Processing Record 15 of Set 4 | la'ie\n",
      "Processing Record 16 of Set 4 | dunedin\n",
      "Processing Record 17 of Set 4 | el granada\n",
      "Processing Record 18 of Set 4 | ulanhot\n",
      "Processing Record 19 of Set 4 | sisimiut\n",
      "Processing Record 20 of Set 4 | armacao de buzios\n",
      "Processing Record 21 of Set 4 | kayangel\n",
      "Processing Record 22 of Set 4 | lethem\n",
      "Processing Record 23 of Set 4 | inari\n",
      "Processing Record 24 of Set 4 | fale old settlement\n",
      "Processing Record 25 of Set 4 | cidade velha\n",
      "Processing Record 26 of Set 4 | ukwa\n",
      "Processing Record 27 of Set 4 | olinda\n",
      "Processing Record 28 of Set 4 | kargopol'\n",
      "Processing Record 29 of Set 4 | tianpeng\n",
      "Processing Record 30 of Set 4 | carnarvon\n",
      "Processing Record 31 of Set 4 | weinan\n",
      "Processing Record 32 of Set 4 | saint-philippe\n",
      "Processing Record 33 of Set 4 | midvagur\n",
      "Processing Record 34 of Set 4 | okhotsk\n",
      "Processing Record 35 of Set 4 | utrik\n",
      "Processing Record 36 of Set 4 | vadso\n",
      "Processing Record 37 of Set 4 | nogliki\n",
      "Processing Record 38 of Set 4 | koster\n",
      "Processing Record 39 of Set 4 | aguas belas\n",
      "Processing Record 40 of Set 4 | poronaysk\n",
      "Processing Record 41 of Set 4 | toyoshina\n",
      "Processing Record 42 of Set 4 | tabou\n",
      "Processing Record 43 of Set 4 | luanda\n",
      "Processing Record 44 of Set 4 | tual\n",
      "Processing Record 45 of Set 4 | ambon\n",
      "Processing Record 46 of Set 4 | touros\n",
      "Processing Record 47 of Set 4 | settat\n",
      "Processing Record 48 of Set 4 | holualoa\n",
      "Processing Record 49 of Set 4 | fada\n",
      "Processing Record 0 of Set 5 | calca\n",
      "Processing Record 1 of Set 5 | paka\n",
      "Processing Record 2 of Set 5 | atafu village\n",
      "Processing Record 3 of Set 5 | sinabang\n",
      "Processing Record 4 of Set 5 | byron bay\n",
      "Processing Record 5 of Set 5 | ylitornio\n",
      "Processing Record 6 of Set 5 | mount gambier\n",
      "Processing Record 7 of Set 5 | karaton\n",
      "Processing Record 8 of Set 5 | vredenburg\n",
      "City not found. Skipping...\n",
      "Processing Record 9 of Set 5 | uturoa\n",
      "Processing Record 10 of Set 5 | acapulco de juarez\n",
      "Processing Record 11 of Set 5 | devinuwara\n",
      "City not found. Skipping...\n",
      "Processing Record 12 of Set 5 | amga\n",
      "Processing Record 13 of Set 5 | port sudan\n",
      "Processing Record 14 of Set 5 | fonadhoo\n",
      "City not found. Skipping...\n",
      "Processing Record 15 of Set 5 | ario de rosales\n",
      "Processing Record 16 of Set 5 | bratsk\n",
      "Processing Record 17 of Set 5 | aasiaat\n",
      "Processing Record 18 of Set 5 | tenja\n",
      "Processing Record 19 of Set 5 | hirara\n",
      "Processing Record 20 of Set 5 | mikhaylov\n",
      "Processing Record 21 of Set 5 | nar'yan-mar\n",
      "Processing Record 22 of Set 5 | reggane\n",
      "Processing Record 23 of Set 5 | sao joao del rei\n",
      "Processing Record 24 of Set 5 | kamaishi\n",
      "Processing Record 25 of Set 5 | merke\n",
      "Processing Record 26 of Set 5 | forster\n",
      "Processing Record 27 of Set 5 | thunder bay\n",
      "Processing Record 28 of Set 5 | pea ridge\n",
      "Processing Record 29 of Set 5 | tura\n",
      "Processing Record 30 of Set 5 | talara\n",
      "Processing Record 31 of Set 5 | port saint john's\n",
      "Processing Record 32 of Set 5 | aioun\n",
      "Processing Record 33 of Set 5 | magadan\n",
      "Processing Record 34 of Set 5 | aljezur\n",
      "Processing Record 35 of Set 5 | kaliua\n",
      "Processing Record 36 of Set 5 | markovo\n",
      "Processing Record 37 of Set 5 | ishigaki\n",
      "Processing Record 38 of Set 5 | ahau\n",
      "City not found. Skipping...\n",
      "Processing Record 39 of Set 5 | bernalda\n",
      "Processing Record 40 of Set 5 | tsiombe\n",
      "Processing Record 41 of Set 5 | siwa oasis\n",
      "Processing Record 42 of Set 5 | ts'q'alt'ubo\n",
      "Processing Record 43 of Set 5 | sault ste. marie\n",
      "Processing Record 44 of Set 5 | cabedelo\n",
      "Processing Record 45 of Set 5 | huarmey\n",
      "Processing Record 46 of Set 5 | berdigestyakh\n",
      "Processing Record 47 of Set 5 | codrington\n",
      "Processing Record 48 of Set 5 | kolonia\n",
      "Processing Record 49 of Set 5 | cape coast\n",
      "Processing Record 0 of Set 6 | fuling\n",
      "Processing Record 1 of Set 6 | kwekwe\n",
      "Processing Record 2 of Set 6 | namibe\n",
      "Processing Record 3 of Set 6 | pisco\n",
      "Processing Record 4 of Set 6 | vorgashor\n",
      "Processing Record 5 of Set 6 | san felipe\n",
      "Processing Record 6 of Set 6 | toga village\n",
      "City not found. Skipping...\n",
      "Processing Record 7 of Set 6 | colchani\n",
      "Processing Record 8 of Set 6 | nkove\n",
      "Processing Record 9 of Set 6 | manta\n",
      "Processing Record 10 of Set 6 | ancud\n",
      "-----------------------------\n",
      "Data Retrieval Complete      \n",
      "-----------------------------\n"
     ]
    }
   ],
   "source": [
    "# Set the API base URL\n",
    "url = \"http://api.openweathermap.org/data/2.5/weather?\"\n",
    "\n",
    "# Define an empty list to fetch the weather data for each city\n",
    "city_data = []\n",
    "\n",
    "# Print to logger\n",
    "print(\"Beginning Data Retrieval     \")\n",
    "print(\"-----------------------------\")\n",
    "\n",
    "# Create counters\n",
    "record_count = 1\n",
    "set_count = 1\n",
    "\n",
    "# Loop through all the cities in our list to fetch weather data\n",
    "for i, city in enumerate(cities):\n",
    "        \n",
    "    # Group cities in sets of 50 for logging purposes\n",
    "    if (i % 50 == 0 and i >= 50):\n",
    "        set_count += 1\n",
    "        record_count = 0\n",
    "\n",
    "    # Create endpoint URL with each city\n",
    "    city_url = f\"{url}appid={weather_api_key}&units=imperial&q=\"\n",
    "    \n",
    "    # Log the url, record, and set numbers\n",
    "    print(\"Processing Record %s of Set %s | %s\" % (record_count, set_count, city))\n",
    "\n",
    "    # Add 1 to the record count\n",
    "    record_count += 1\n",
    "\n",
    "    # Run an API request for each of the cities\n",
    "    try:\n",
    "        # Parse the JSON and retrieve data\n",
    "        city_weather = requests.get(city_url + city)\n",
    "        city_weather = city_weather.json()\n",
    "\n",
    "        # Parse out latitude, longitude, max temp, humidity, cloudiness, wind speed, country, and date\n",
    "        city_lat = city_weather[\"coord\"][\"lat\"]\n",
    "        city_lng = city_weather[\"coord\"][\"lon\"]\n",
    "        city_max_temp = city_weather[\"main\"][\"temp_max\"]\n",
    "        city_humidity = city_weather[\"main\"][\"humidity\"]\n",
    "        city_clouds = city_weather[\"clouds\"][\"all\"]\n",
    "        city_wind = city_weather[\"wind\"][\"speed\"]\n",
    "        city_country = city_weather[\"sys\"][\"country\"]\n",
    "        city_date = city_weather[\"dt\"]\n",
    "        \n",
    "        # Append the City information into city_data list\n",
    "        city_data.append({\"City\": city, \n",
    "                          \"Lat\": city_lat, \n",
    "                          \"Lng\": city_lng, \n",
    "                          \"Max Temp\": city_max_temp,\n",
    "                          \"Humidity\": city_humidity,\n",
    "                          \"Cloudiness\": city_clouds,\n",
    "                          \"Wind Speed\": city_wind,\n",
    "                          \"Country\": city_country,\n",
    "                          \"Date\": city_date\n",
    "        })\n",
    "\n",
    "    # If an error is experienced, skip the city\n",
    "    except:\n",
    "        print(\"City not found. Skipping...\")\n",
    "        pass\n",
    "              \n",
    "# Indicate that Data Loading is complete \n",
    "print(\"-----------------------------\")\n",
    "print(\"Data Retrieval Complete      \")\n",
    "print(\"-----------------------------\")"
   ]
  },
  {
   "cell_type": "code",
   "execution_count": 173,
   "metadata": {},
   "outputs": [
    {
     "data": {
      "text/plain": [
       "City          252\n",
       "Lat           252\n",
       "Lng           252\n",
       "Max Temp      252\n",
       "Humidity      252\n",
       "Cloudiness    252\n",
       "Wind Speed    252\n",
       "Country       252\n",
       "Date          252\n",
       "dtype: int64"
      ]
     },
     "execution_count": 173,
     "metadata": {},
     "output_type": "execute_result"
    }
   ],
   "source": [
    "# Convert the cities weather data into a Pandas DataFrame\n",
    "city_data_df = pd.DataFrame(city_data)\n",
    "\n",
    "# Show Record Count\n",
    "city_data_df.count()"
   ]
  },
  {
   "cell_type": "code",
   "execution_count": 174,
   "metadata": {},
   "outputs": [
    {
     "data": {
      "text/html": [
       "<div>\n",
       "<style scoped>\n",
       "    .dataframe tbody tr th:only-of-type {\n",
       "        vertical-align: middle;\n",
       "    }\n",
       "\n",
       "    .dataframe tbody tr th {\n",
       "        vertical-align: top;\n",
       "    }\n",
       "\n",
       "    .dataframe thead th {\n",
       "        text-align: right;\n",
       "    }\n",
       "</style>\n",
       "<table border=\"1\" class=\"dataframe\">\n",
       "  <thead>\n",
       "    <tr style=\"text-align: right;\">\n",
       "      <th></th>\n",
       "      <th>City</th>\n",
       "      <th>Lat</th>\n",
       "      <th>Lng</th>\n",
       "      <th>Max Temp</th>\n",
       "      <th>Humidity</th>\n",
       "      <th>Cloudiness</th>\n",
       "      <th>Wind Speed</th>\n",
       "      <th>Country</th>\n",
       "      <th>Date</th>\n",
       "    </tr>\n",
       "  </thead>\n",
       "  <tbody>\n",
       "    <tr>\n",
       "      <th>0</th>\n",
       "      <td>waitangi</td>\n",
       "      <td>-43.9535</td>\n",
       "      <td>-176.5597</td>\n",
       "      <td>55.49</td>\n",
       "      <td>85</td>\n",
       "      <td>3</td>\n",
       "      <td>21.52</td>\n",
       "      <td>NZ</td>\n",
       "      <td>1699915453</td>\n",
       "    </tr>\n",
       "    <tr>\n",
       "      <th>1</th>\n",
       "      <td>ushuaia</td>\n",
       "      <td>-54.8000</td>\n",
       "      <td>-68.3000</td>\n",
       "      <td>40.62</td>\n",
       "      <td>70</td>\n",
       "      <td>40</td>\n",
       "      <td>32.01</td>\n",
       "      <td>AR</td>\n",
       "      <td>1699915365</td>\n",
       "    </tr>\n",
       "    <tr>\n",
       "      <th>2</th>\n",
       "      <td>margaret river</td>\n",
       "      <td>-33.9500</td>\n",
       "      <td>115.0667</td>\n",
       "      <td>59.90</td>\n",
       "      <td>86</td>\n",
       "      <td>99</td>\n",
       "      <td>11.86</td>\n",
       "      <td>AU</td>\n",
       "      <td>1699915595</td>\n",
       "    </tr>\n",
       "    <tr>\n",
       "      <th>3</th>\n",
       "      <td>porto novo</td>\n",
       "      <td>6.4965</td>\n",
       "      <td>2.6036</td>\n",
       "      <td>78.62</td>\n",
       "      <td>86</td>\n",
       "      <td>2</td>\n",
       "      <td>5.48</td>\n",
       "      <td>BJ</td>\n",
       "      <td>1699915530</td>\n",
       "    </tr>\n",
       "    <tr>\n",
       "      <th>4</th>\n",
       "      <td>yellowknife</td>\n",
       "      <td>62.4560</td>\n",
       "      <td>-114.3525</td>\n",
       "      <td>18.12</td>\n",
       "      <td>93</td>\n",
       "      <td>100</td>\n",
       "      <td>2.30</td>\n",
       "      <td>CA</td>\n",
       "      <td>1699915588</td>\n",
       "    </tr>\n",
       "  </tbody>\n",
       "</table>\n",
       "</div>"
      ],
      "text/plain": [
       "             City      Lat       Lng  Max Temp  Humidity  Cloudiness  \\\n",
       "0        waitangi -43.9535 -176.5597     55.49        85           3   \n",
       "1         ushuaia -54.8000  -68.3000     40.62        70          40   \n",
       "2  margaret river -33.9500  115.0667     59.90        86          99   \n",
       "3      porto novo   6.4965    2.6036     78.62        86           2   \n",
       "4     yellowknife  62.4560 -114.3525     18.12        93         100   \n",
       "\n",
       "   Wind Speed Country        Date  \n",
       "0       21.52      NZ  1699915453  \n",
       "1       32.01      AR  1699915365  \n",
       "2       11.86      AU  1699915595  \n",
       "3        5.48      BJ  1699915530  \n",
       "4        2.30      CA  1699915588  "
      ]
     },
     "execution_count": 174,
     "metadata": {},
     "output_type": "execute_result"
    }
   ],
   "source": [
    "# Display sample data\n",
    "city_data_df.head()"
   ]
  },
  {
   "cell_type": "code",
   "execution_count": 175,
   "metadata": {},
   "outputs": [],
   "source": [
    "# Export the City_Data into a csv\n",
    "city_data_df.to_csv(\"output_data/cities.csv\", index_label=\"City_ID\")"
   ]
  },
  {
   "cell_type": "code",
   "execution_count": 176,
   "metadata": {},
   "outputs": [
    {
     "data": {
      "text/html": [
       "<div>\n",
       "<style scoped>\n",
       "    .dataframe tbody tr th:only-of-type {\n",
       "        vertical-align: middle;\n",
       "    }\n",
       "\n",
       "    .dataframe tbody tr th {\n",
       "        vertical-align: top;\n",
       "    }\n",
       "\n",
       "    .dataframe thead th {\n",
       "        text-align: right;\n",
       "    }\n",
       "</style>\n",
       "<table border=\"1\" class=\"dataframe\">\n",
       "  <thead>\n",
       "    <tr style=\"text-align: right;\">\n",
       "      <th></th>\n",
       "      <th>City</th>\n",
       "      <th>Lat</th>\n",
       "      <th>Lng</th>\n",
       "      <th>Max Temp</th>\n",
       "      <th>Humidity</th>\n",
       "      <th>Cloudiness</th>\n",
       "      <th>Wind Speed</th>\n",
       "      <th>Country</th>\n",
       "      <th>Date</th>\n",
       "    </tr>\n",
       "    <tr>\n",
       "      <th>City_ID</th>\n",
       "      <th></th>\n",
       "      <th></th>\n",
       "      <th></th>\n",
       "      <th></th>\n",
       "      <th></th>\n",
       "      <th></th>\n",
       "      <th></th>\n",
       "      <th></th>\n",
       "      <th></th>\n",
       "    </tr>\n",
       "  </thead>\n",
       "  <tbody>\n",
       "    <tr>\n",
       "      <th>0</th>\n",
       "      <td>waitangi</td>\n",
       "      <td>-43.9535</td>\n",
       "      <td>-176.5597</td>\n",
       "      <td>55.49</td>\n",
       "      <td>85</td>\n",
       "      <td>3</td>\n",
       "      <td>21.52</td>\n",
       "      <td>NZ</td>\n",
       "      <td>1699915453</td>\n",
       "    </tr>\n",
       "    <tr>\n",
       "      <th>1</th>\n",
       "      <td>ushuaia</td>\n",
       "      <td>-54.8000</td>\n",
       "      <td>-68.3000</td>\n",
       "      <td>40.62</td>\n",
       "      <td>70</td>\n",
       "      <td>40</td>\n",
       "      <td>32.01</td>\n",
       "      <td>AR</td>\n",
       "      <td>1699915365</td>\n",
       "    </tr>\n",
       "    <tr>\n",
       "      <th>2</th>\n",
       "      <td>margaret river</td>\n",
       "      <td>-33.9500</td>\n",
       "      <td>115.0667</td>\n",
       "      <td>59.90</td>\n",
       "      <td>86</td>\n",
       "      <td>99</td>\n",
       "      <td>11.86</td>\n",
       "      <td>AU</td>\n",
       "      <td>1699915595</td>\n",
       "    </tr>\n",
       "    <tr>\n",
       "      <th>3</th>\n",
       "      <td>porto novo</td>\n",
       "      <td>6.4965</td>\n",
       "      <td>2.6036</td>\n",
       "      <td>78.62</td>\n",
       "      <td>86</td>\n",
       "      <td>2</td>\n",
       "      <td>5.48</td>\n",
       "      <td>BJ</td>\n",
       "      <td>1699915530</td>\n",
       "    </tr>\n",
       "    <tr>\n",
       "      <th>4</th>\n",
       "      <td>yellowknife</td>\n",
       "      <td>62.4560</td>\n",
       "      <td>-114.3525</td>\n",
       "      <td>18.12</td>\n",
       "      <td>93</td>\n",
       "      <td>100</td>\n",
       "      <td>2.30</td>\n",
       "      <td>CA</td>\n",
       "      <td>1699915588</td>\n",
       "    </tr>\n",
       "  </tbody>\n",
       "</table>\n",
       "</div>"
      ],
      "text/plain": [
       "                   City      Lat       Lng  Max Temp  Humidity  Cloudiness  \\\n",
       "City_ID                                                                      \n",
       "0              waitangi -43.9535 -176.5597     55.49        85           3   \n",
       "1               ushuaia -54.8000  -68.3000     40.62        70          40   \n",
       "2        margaret river -33.9500  115.0667     59.90        86          99   \n",
       "3            porto novo   6.4965    2.6036     78.62        86           2   \n",
       "4           yellowknife  62.4560 -114.3525     18.12        93         100   \n",
       "\n",
       "         Wind Speed Country        Date  \n",
       "City_ID                                  \n",
       "0             21.52      NZ  1699915453  \n",
       "1             32.01      AR  1699915365  \n",
       "2             11.86      AU  1699915595  \n",
       "3              5.48      BJ  1699915530  \n",
       "4              2.30      CA  1699915588  "
      ]
     },
     "execution_count": 176,
     "metadata": {},
     "output_type": "execute_result"
    }
   ],
   "source": [
    "# Read saved data\n",
    "city_data_df = pd.read_csv(\"output_data/cities.csv\", index_col=\"City_ID\")\n",
    "\n",
    "# Display sample data\n",
    "city_data_df.head()"
   ]
  },
  {
   "cell_type": "markdown",
   "metadata": {},
   "source": [
    "### Create the Scatter Plots Requested\n",
    "\n",
    "#### Latitude Vs. Temperature"
   ]
  },
  {
   "cell_type": "code",
   "execution_count": 177,
   "metadata": {
    "tags": []
   },
   "outputs": [
    {
     "data": {
      "image/png": "[encoded data removed]",
      "text/plain": [
       "<Figure size 640x480 with 1 Axes>"
      ]
     },
     "metadata": {},
     "output_type": "display_data"
    }
   ],
   "source": [
    "# Build scatter plot for latitude vs. temperature\n",
    "x = city_data_df[\"Lat\"]\n",
    "y = city_data_df[\"Max Temp\"]\n",
    "plt.scatter(x, y, edgecolor=\"yellow\", color=\"purple\")\n",
    "\n",
    "# Incorporate the other graph properties\n",
    "plt.xticks(fontsize=10)\n",
    "plt.yticks(fontsize=10)\n",
    "plt.xlabel(\"Latitude\")\n",
    "plt.ylabel(\"Max Temperature (F)\")\n",
    "\n",
    "# Save the figure\n",
    "plt.savefig(\"output_data/latvtemp.png\")\n",
    "\n",
    "# Show plot\n",
    "plt.show()"
   ]
  },
  {
   "cell_type": "markdown",
   "metadata": {},
   "source": [
    "#### Latitude Vs. Humidity"
   ]
  },
  {
   "cell_type": "code",
   "execution_count": 178,
   "metadata": {},
   "outputs": [
    {
     "data": {
      "image/png": "[encoded data removed]",
      "text/plain": [
       "<Figure size 640x480 with 1 Axes>"
      ]
     },
     "metadata": {},
     "output_type": "display_data"
    }
   ],
   "source": [
    "# Build the scatter plots for latitude vs. humidity\n",
    "x = city_data_df[\"Lat\"]\n",
    "y = city_data_df[\"Humidity\"]\n",
    "plt.scatter(x, y, edgecolor=\"green\", color=\"purple\")\n",
    "\n",
    "# Incorporate the other graph properties\n",
    "plt.xticks(fontsize=10)\n",
    "plt.yticks(fontsize=10)\n",
    "plt.xlabel(\"Latitude\")\n",
    "plt.ylabel(\"Humidity %\")\n",
    "\n",
    "# Save the figure\n",
    "plt.savefig(\"output_data/latvhumid.png\")\n",
    "\n",
    "# Show plot\n",
    "plt.show()"
   ]
  },
  {
   "cell_type": "markdown",
   "metadata": {},
   "source": [
    "#### Latitude Vs. Cloudiness"
   ]
  },
  {
   "cell_type": "code",
   "execution_count": 179,
   "metadata": {},
   "outputs": [
    {
     "data": {
      "image/png": "[encoded data removed]",
      "text/plain": [
       "<Figure size 640x480 with 1 Axes>"
      ]
     },
     "metadata": {},
     "output_type": "display_data"
    }
   ],
   "source": [
    "# Build the scatter plots for latitude vs. cloudiness\n",
    "x = city_data_df[\"Lat\"]\n",
    "y = city_data_df[\"Cloudiness\"]\n",
    "plt.scatter(x, y, edgecolor=\"blue\", color=\"gray\")\n",
    "\n",
    "# Incorporate the other graph properties\n",
    "plt.xticks(fontsize=10)\n",
    "plt.yticks(fontsize=10)\n",
    "plt.xlabel(\"Latitude\")\n",
    "plt.ylabel(\"Cloudiness %\")\n",
    "\n",
    "# Save the figure\n",
    "plt.savefig(\"output_data/latvcloudy.png\")\n",
    "\n",
    "# Show plot\n",
    "plt.show()"
   ]
  },
  {
   "cell_type": "markdown",
   "metadata": {},
   "source": [
    "#### Latitude vs. Wind Speed Plot"
   ]
  },
  {
   "cell_type": "code",
   "execution_count": 180,
   "metadata": {},
   "outputs": [
    {
     "data": {
      "image/png": "[encoded data removed]",
      "text/plain": [
       "<Figure size 640x480 with 1 Axes>"
      ]
     },
     "metadata": {},
     "output_type": "display_data"
    }
   ],
   "source": [
    "# Build the scatter plots for latitude vs. wind speed\n",
    "x = city_data_df[\"Lat\"]\n",
    "y = city_data_df[\"Wind Speed\"]\n",
    "plt.scatter(x, y, edgecolor=\"red\", color=\"gray\")\n",
    "\n",
    "# Incorporate the other graph properties\n",
    "plt.xticks(fontsize=10)\n",
    "plt.yticks(fontsize=10)\n",
    "plt.xlabel(\"Latitude\")\n",
    "plt.ylabel(\"Wind Speed (miles/hour)\")\n",
    "\n",
    "# Save the figure\n",
    "plt.savefig(\"output_data/latvwind.png\")\n",
    "\n",
    "# Show plot\n",
    "plt.show()"
   ]
  },
  {
   "cell_type": "markdown",
   "metadata": {},
   "source": [
    "---\n",
    "\n",
    "## Requirement 2: Compute Linear Regression for Each Relationship\n"
   ]
  },
  {
   "cell_type": "code",
   "execution_count": 195,
   "metadata": {},
   "outputs": [
    {
     "name": "stdout",
     "output_type": "stream",
     "text": [
      "The r-value is: -0.09952616200951943.\n"
     ]
    },
    {
     "data": {
      "image/png": "[encoded data removed]",
      "text/plain": [
       "<Figure size 640x480 with 1 Axes>"
      ]
     },
     "metadata": {},
     "output_type": "display_data"
    }
   ],
   "source": [
    "# Define a function to create Linear Regression plots\n",
    "\n",
    "def Regression_scatter(weatherdata, xCol, yCol):\n",
    "    x = weatherdata[xCol]\n",
    "    y = weatherdata[yCol]\n",
    "\n",
    "correlation = st.pearsonr(x, y)\n",
    "(slope, intercept, rvalue, pvalue, stderr) = st.linregress(x, y)\n",
    "regression = x * slope + intercept\n",
    "line_eq = f'y = {slope:.2f}x + {intercept:.2f}'\n",
    "plt.text(min(x), max(y), line_eq, color=\"green\", fontsize=12)\n",
    "print(f\"The r-value is: {rvalue}.\")\n",
    "\n",
    "plt.plot(x, slope * x + intercept, color=\"red\", label=f'regression line: y = {slope:.2f}x + {intercept:.2f}')\n",
    "plt.scatter(x, y)\n",
    "plt.xlabel(\"Latitude\", fontsize=10)\n",
    "plt.ylabel(\"Max Temperature (F)\", fontsize=10)\n",
    "\n",
    "plt.show()"
   ]
  },
  {
   "cell_type": "code",
   "execution_count": 182,
   "metadata": {},
   "outputs": [
    {
     "data": {
      "text/html": [
       "<div>\n",
       "<style scoped>\n",
       "    .dataframe tbody tr th:only-of-type {\n",
       "        vertical-align: middle;\n",
       "    }\n",
       "\n",
       "    .dataframe tbody tr th {\n",
       "        vertical-align: top;\n",
       "    }\n",
       "\n",
       "    .dataframe thead th {\n",
       "        text-align: right;\n",
       "    }\n",
       "</style>\n",
       "<table border=\"1\" class=\"dataframe\">\n",
       "  <thead>\n",
       "    <tr style=\"text-align: right;\">\n",
       "      <th></th>\n",
       "      <th>City</th>\n",
       "      <th>Lat</th>\n",
       "      <th>Lng</th>\n",
       "      <th>Max Temp</th>\n",
       "      <th>Humidity</th>\n",
       "      <th>Cloudiness</th>\n",
       "      <th>Wind Speed</th>\n",
       "      <th>Country</th>\n",
       "      <th>Date</th>\n",
       "    </tr>\n",
       "    <tr>\n",
       "      <th>City_ID</th>\n",
       "      <th></th>\n",
       "      <th></th>\n",
       "      <th></th>\n",
       "      <th></th>\n",
       "      <th></th>\n",
       "      <th></th>\n",
       "      <th></th>\n",
       "      <th></th>\n",
       "      <th></th>\n",
       "    </tr>\n",
       "  </thead>\n",
       "  <tbody>\n",
       "    <tr>\n",
       "      <th>3</th>\n",
       "      <td>porto novo</td>\n",
       "      <td>6.4965</td>\n",
       "      <td>2.6036</td>\n",
       "      <td>78.62</td>\n",
       "      <td>86</td>\n",
       "      <td>2</td>\n",
       "      <td>5.48</td>\n",
       "      <td>BJ</td>\n",
       "      <td>1699915530</td>\n",
       "    </tr>\n",
       "    <tr>\n",
       "      <th>4</th>\n",
       "      <td>yellowknife</td>\n",
       "      <td>62.4560</td>\n",
       "      <td>-114.3525</td>\n",
       "      <td>18.12</td>\n",
       "      <td>93</td>\n",
       "      <td>100</td>\n",
       "      <td>2.30</td>\n",
       "      <td>CA</td>\n",
       "      <td>1699915588</td>\n",
       "    </tr>\n",
       "    <tr>\n",
       "      <th>7</th>\n",
       "      <td>hawaiian paradise park</td>\n",
       "      <td>19.5933</td>\n",
       "      <td>-154.9731</td>\n",
       "      <td>81.90</td>\n",
       "      <td>75</td>\n",
       "      <td>75</td>\n",
       "      <td>8.05</td>\n",
       "      <td>US</td>\n",
       "      <td>1699915596</td>\n",
       "    </tr>\n",
       "    <tr>\n",
       "      <th>9</th>\n",
       "      <td>kapuskasing</td>\n",
       "      <td>49.4169</td>\n",
       "      <td>-82.4331</td>\n",
       "      <td>33.89</td>\n",
       "      <td>93</td>\n",
       "      <td>100</td>\n",
       "      <td>14.97</td>\n",
       "      <td>CA</td>\n",
       "      <td>1699915596</td>\n",
       "    </tr>\n",
       "    <tr>\n",
       "      <th>10</th>\n",
       "      <td>saipan</td>\n",
       "      <td>15.1355</td>\n",
       "      <td>145.7010</td>\n",
       "      <td>83.10</td>\n",
       "      <td>78</td>\n",
       "      <td>40</td>\n",
       "      <td>18.41</td>\n",
       "      <td>MP</td>\n",
       "      <td>1699915596</td>\n",
       "    </tr>\n",
       "  </tbody>\n",
       "</table>\n",
       "</div>"
      ],
      "text/plain": [
       "                           City      Lat       Lng  Max Temp  Humidity  \\\n",
       "City_ID                                                                  \n",
       "3                    porto novo   6.4965    2.6036     78.62        86   \n",
       "4                   yellowknife  62.4560 -114.3525     18.12        93   \n",
       "7        hawaiian paradise park  19.5933 -154.9731     81.90        75   \n",
       "9                   kapuskasing  49.4169  -82.4331     33.89        93   \n",
       "10                       saipan  15.1355  145.7010     83.10        78   \n",
       "\n",
       "         Cloudiness  Wind Speed Country        Date  \n",
       "City_ID                                              \n",
       "3                 2        5.48      BJ  1699915530  \n",
       "4               100        2.30      CA  1699915588  \n",
       "7                75        8.05      US  1699915596  \n",
       "9               100       14.97      CA  1699915596  \n",
       "10               40       18.41      MP  1699915596  "
      ]
     },
     "execution_count": 182,
     "metadata": {},
     "output_type": "execute_result"
    }
   ],
   "source": [
    "# Create a DataFrame with the Northern Hemisphere data (Latitude >= 0)\n",
    "northern_hemi_df = city_data_df.copy()\n",
    "northern_hemi_df = northern_hemi_df.loc[northern_hemi_df[\"Lat\"] >= 0,:]\n",
    "\n",
    "# Display sample data\n",
    "northern_hemi_df.head()"
   ]
  },
  {
   "cell_type": "code",
   "execution_count": 196,
   "metadata": {},
   "outputs": [
    {
     "data": {
      "text/html": [
       "<div>\n",
       "<style scoped>\n",
       "    .dataframe tbody tr th:only-of-type {\n",
       "        vertical-align: middle;\n",
       "    }\n",
       "\n",
       "    .dataframe tbody tr th {\n",
       "        vertical-align: top;\n",
       "    }\n",
       "\n",
       "    .dataframe thead th {\n",
       "        text-align: right;\n",
       "    }\n",
       "</style>\n",
       "<table border=\"1\" class=\"dataframe\">\n",
       "  <thead>\n",
       "    <tr style=\"text-align: right;\">\n",
       "      <th></th>\n",
       "      <th>City</th>\n",
       "      <th>Lat</th>\n",
       "      <th>Lng</th>\n",
       "      <th>Max Temp</th>\n",
       "      <th>Humidity</th>\n",
       "      <th>Cloudiness</th>\n",
       "      <th>Wind Speed</th>\n",
       "      <th>Country</th>\n",
       "      <th>Date</th>\n",
       "    </tr>\n",
       "    <tr>\n",
       "      <th>City_ID</th>\n",
       "      <th></th>\n",
       "      <th></th>\n",
       "      <th></th>\n",
       "      <th></th>\n",
       "      <th></th>\n",
       "      <th></th>\n",
       "      <th></th>\n",
       "      <th></th>\n",
       "      <th></th>\n",
       "    </tr>\n",
       "  </thead>\n",
       "  <tbody>\n",
       "    <tr>\n",
       "      <th>0</th>\n",
       "      <td>waitangi</td>\n",
       "      <td>-43.9535</td>\n",
       "      <td>-176.5597</td>\n",
       "      <td>55.49</td>\n",
       "      <td>85</td>\n",
       "      <td>3</td>\n",
       "      <td>21.52</td>\n",
       "      <td>NZ</td>\n",
       "      <td>1699915453</td>\n",
       "    </tr>\n",
       "    <tr>\n",
       "      <th>1</th>\n",
       "      <td>ushuaia</td>\n",
       "      <td>-54.8000</td>\n",
       "      <td>-68.3000</td>\n",
       "      <td>40.62</td>\n",
       "      <td>70</td>\n",
       "      <td>40</td>\n",
       "      <td>32.01</td>\n",
       "      <td>AR</td>\n",
       "      <td>1699915365</td>\n",
       "    </tr>\n",
       "    <tr>\n",
       "      <th>2</th>\n",
       "      <td>margaret river</td>\n",
       "      <td>-33.9500</td>\n",
       "      <td>115.0667</td>\n",
       "      <td>59.90</td>\n",
       "      <td>86</td>\n",
       "      <td>99</td>\n",
       "      <td>11.86</td>\n",
       "      <td>AU</td>\n",
       "      <td>1699915595</td>\n",
       "    </tr>\n",
       "    <tr>\n",
       "      <th>5</th>\n",
       "      <td>edinburgh of the seven seas</td>\n",
       "      <td>-37.0676</td>\n",
       "      <td>-12.3116</td>\n",
       "      <td>56.52</td>\n",
       "      <td>79</td>\n",
       "      <td>7</td>\n",
       "      <td>25.46</td>\n",
       "      <td>SH</td>\n",
       "      <td>1699915443</td>\n",
       "    </tr>\n",
       "    <tr>\n",
       "      <th>6</th>\n",
       "      <td>adamstown</td>\n",
       "      <td>-25.0660</td>\n",
       "      <td>-130.1015</td>\n",
       "      <td>73.15</td>\n",
       "      <td>86</td>\n",
       "      <td>95</td>\n",
       "      <td>18.28</td>\n",
       "      <td>PN</td>\n",
       "      <td>1699915436</td>\n",
       "    </tr>\n",
       "  </tbody>\n",
       "</table>\n",
       "</div>"
      ],
      "text/plain": [
       "                                City      Lat       Lng  Max Temp  Humidity  \\\n",
       "City_ID                                                                       \n",
       "0                           waitangi -43.9535 -176.5597     55.49        85   \n",
       "1                            ushuaia -54.8000  -68.3000     40.62        70   \n",
       "2                     margaret river -33.9500  115.0667     59.90        86   \n",
       "5        edinburgh of the seven seas -37.0676  -12.3116     56.52        79   \n",
       "6                          adamstown -25.0660 -130.1015     73.15        86   \n",
       "\n",
       "         Cloudiness  Wind Speed Country        Date  \n",
       "City_ID                                              \n",
       "0                 3       21.52      NZ  1699915453  \n",
       "1                40       32.01      AR  1699915365  \n",
       "2                99       11.86      AU  1699915595  \n",
       "5                 7       25.46      SH  1699915443  \n",
       "6                95       18.28      PN  1699915436  "
      ]
     },
     "execution_count": 196,
     "metadata": {},
     "output_type": "execute_result"
    }
   ],
   "source": [
    "# Create a DataFrame with the Southern Hemisphere data (Latitude < 0)\n",
    "southern_hemi_df = city_data_df.copy()\n",
    "southern_hemi_df = southern_hemi_df.loc[southern_hemi_df[\"Lat\"] < 0,:]\n",
    "\n",
    "# Display sample data\n",
    "southern_hemi_df.head()"
   ]
  },
  {
   "cell_type": "markdown",
   "metadata": {},
   "source": [
    "###  Temperature vs. Latitude Linear Regression Plot"
   ]
  },
  {
   "cell_type": "code",
   "execution_count": 184,
   "metadata": {},
   "outputs": [
    {
     "name": "stdout",
     "output_type": "stream",
     "text": [
      "The r-value is: -0.09952616200951943.\n"
     ]
    }
   ],
   "source": [
    "# Linear regression on Northern Hemisphere\n",
    "Regression_scatter(northern_hemi_df, \"Max Temp\", \"Lat\")\n",
    "print(f\"The r-value is: {rvalue}.\")\n",
    "plt.show()"
   ]
  },
  {
   "cell_type": "code",
   "execution_count": 185,
   "metadata": {},
   "outputs": [
    {
     "name": "stdout",
     "output_type": "stream",
     "text": [
      "The r-value is: -0.09952616200951943.\n"
     ]
    }
   ],
   "source": [
    "# Linear regression on Southern Hemisphere\n",
    "Regression_scatter(southern_hemi_df, \"Lat\", \"Max Temp\")\n",
    "#plt.text(min(x), max(y), line_eq, color = \"green\", fontsize=12)\n",
    "print(f\"The r-value is: {rvalue}.\")\n",
    "plt.show()"
   ]
  },
  {
   "cell_type": "markdown",
   "metadata": {},
   "source": [
    "**Discussion about the linear relationship:** YOUR RESPONSE HERE"
   ]
  },
  {
   "cell_type": "markdown",
   "metadata": {},
   "source": [
    "### Humidity vs. Latitude Linear Regression Plot"
   ]
  },
  {
   "cell_type": "code",
   "execution_count": 186,
   "metadata": {},
   "outputs": [
    {
     "name": "stdout",
     "output_type": "stream",
     "text": [
      "The r-value is: -0.09952616200951943\n"
     ]
    }
   ],
   "source": [
    "# Northern Hemisphere\n",
    "Regression_scatter(northern_hemi_df, \"Lat\", \"Humidity\")\n",
    "print(f\"The r-value is: {rvalue}\")\n",
    "plt.show()"
   ]
  },
  {
   "cell_type": "code",
   "execution_count": 187,
   "metadata": {},
   "outputs": [
    {
     "name": "stdout",
     "output_type": "stream",
     "text": [
      "The r-value is: -0.09952616200951943\n"
     ]
    }
   ],
   "source": [
    "# Southern Hemisphere\n",
    "Regression_scatter(southern_hemi_df, \"Lat\", \"Humidity\")\n",
    "#plt.text(min(x), max(y), line_eq, color = \"green\", fontsize=12)\n",
    "print(f\"The r-value is: {rvalue}\")\n",
    "plt.show()"
   ]
  },
  {
   "cell_type": "markdown",
   "metadata": {},
   "source": [
    "**Discussion about the linear relationship:** YOUR RESPONSE HERE"
   ]
  },
  {
   "cell_type": "markdown",
   "metadata": {},
   "source": [
    "### Cloudiness vs. Latitude Linear Regression Plot"
   ]
  },
  {
   "cell_type": "code",
   "execution_count": 188,
   "metadata": {},
   "outputs": [
    {
     "name": "stdout",
     "output_type": "stream",
     "text": [
      "The r-value is: -0.09952616200951943\n"
     ]
    }
   ],
   "source": [
    "# Northern Hemisphere\n",
    "Regression_scatter(northern_hemi_df, \"Lat\", \"Cloudiness\")\n",
    "#plt.text(min(x), max(y), line_eq, color = \"green\", fontsize=12)\n",
    "print(f\"The r-value is: {rvalue}\")\n",
    "plt.show()"
   ]
  },
  {
   "cell_type": "code",
   "execution_count": 189,
   "metadata": {},
   "outputs": [
    {
     "name": "stdout",
     "output_type": "stream",
     "text": [
      "The r-value is: -0.09952616200951943\n"
     ]
    }
   ],
   "source": [
    "# Southern Hemisphere\n",
    "Regression_scatter(southern_hemi_df, \"Lat\", \"Cloudiness\")\n",
    "#plt.text(min(x), max(y), line_eq, color = \"green\", fontsize=12)\n",
    "print(f\"The r-value is: {rvalue}\")\n",
    "plt.show()"
   ]
  },
  {
   "cell_type": "markdown",
   "metadata": {},
   "source": [
    "**Discussion about the linear relationship:** YOUR RESPONSE HERE"
   ]
  },
  {
   "cell_type": "markdown",
   "metadata": {},
   "source": [
    "### Wind Speed vs. Latitude Linear Regression Plot"
   ]
  },
  {
   "cell_type": "code",
   "execution_count": 190,
   "metadata": {},
   "outputs": [
    {
     "name": "stdout",
     "output_type": "stream",
     "text": [
      "The r-value is: -0.09952616200951943.\n"
     ]
    }
   ],
   "source": [
    "# Northern Hemisphere\n",
    "Regression_scatter(southern_hemi_df, \"Lat\", \"Wind Speed\")\n",
    "#plt.text(min(x), max(y), line_eq, color = \"green\", fontsize=12)\n",
    "print(f\"The r-value is: {rvalue}.\")\n",
    "plt.show()"
   ]
  },
  {
   "cell_type": "code",
   "execution_count": 191,
   "metadata": {},
   "outputs": [
    {
     "name": "stdout",
     "output_type": "stream",
     "text": [
      "The r-value is: -0.09952616200951943.\n"
     ]
    }
   ],
   "source": [
    "# Southern Hemisphere\n",
    "Regression_scatter(southern_hemi_df, \"Lat\", \"Wind Speed\")\n",
    "#plt.text(min(x), max(y), line_eq, color = \"green\", fontsize=12)\n",
    "print(f\"The r-value is: {rvalue}.\")\n",
    "plt.show()"
   ]
  },
  {
   "cell_type": "markdown",
   "metadata": {},
   "source": [
    "**Discussion about the linear relationship:** YOUR RESPONSE HERE"
   ]
  },
  {
   "cell_type": "code",
   "execution_count": null,
   "metadata": {},
   "outputs": [],
   "source": []
  }
 ],
 "metadata": {
  "anaconda-cloud": {},
  "kernel_info": {
   "name": "python3"
  },
  "kernelspec": {
   "display_name": "Python 3 (ipykernel)",
   "language": "python",
   "name": "python3"
  },
  "language_info": {
   "codemirror_mode": {
    "name": "ipython",
    "version": 3
   },
   "file_extension": ".py",
   "mimetype": "text/x-python",
   "name": "python",
   "nbconvert_exporter": "python",
   "pygments_lexer": "ipython3",
   "version": "3.11.5"
  },
  "latex_envs": {
   "LaTeX_envs_menu_present": true,
   "autoclose": false,
   "autocomplete": true,
   "bibliofile": "biblio.bib",
   "cite_by": "apalike",
   "current_citInitial": 1,
   "eqLabelWithNumbers": true,
   "eqNumInitial": 1,
   "hotkeys": {
    "equation": "Ctrl-E",
    "itemize": "Ctrl-I"
   },
   "labels_anchors": false,
   "latex_user_defs": false,
   "report_style_numbering": false,
   "user_envs_cfg": false
  },
  "nteract": {
   "version": "0.12.3"
  }
 },
 "nbformat": 4,
 "nbformat_minor": 4
}
